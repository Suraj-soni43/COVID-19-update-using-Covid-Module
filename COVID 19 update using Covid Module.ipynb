{
 "cells": [
  {
   "cell_type": "code",
   "execution_count": 1,
   "metadata": {},
   "outputs": [],
   "source": [
    "#python package named COVID\n",
    "import covid\n",
    "from covid import Covid"
   ]
  },
  {
   "cell_type": "code",
   "execution_count": 2,
   "metadata": {},
   "outputs": [
    {
     "name": "stdout",
     "output_type": "stream",
     "text": [
      "{'confirmed': 11139516, 'deaths': 157346, 'active': 170126, 'recovered': 10812044}\n"
     ]
    }
   ],
   "source": [
    "# Status By Country Name\n",
    "covid = Covid() \n",
    "india = covid.get_status_by_country_name(\"india\") \n",
    "  \n",
    "data ={ \n",
    "    key:india[key] \n",
    "    for key in india.keys() and {'confirmed',  \n",
    "                                 'active', \n",
    "                                 'deaths', \n",
    "                                 'recovered'} \n",
    "} \n",
    "  \n",
    "print(data) "
   ]
  },
  {
   "cell_type": "markdown",
   "metadata": {},
   "source": [
    "# List Countries and their Id’s"
   ]
  },
  {
   "cell_type": "code",
   "execution_count": 3,
   "metadata": {},
   "outputs": [
    {
     "data": {
      "text/plain": [
       "[{'id': '179', 'name': 'US'},\n",
       " {'id': '80', 'name': 'India'},\n",
       " {'id': '24', 'name': 'Brazil'},\n",
       " {'id': '143', 'name': 'Russia'},\n",
       " {'id': '183', 'name': 'United Kingdom'},\n",
       " {'id': '63', 'name': 'France'},\n",
       " {'id': '163', 'name': 'Spain'},\n",
       " {'id': '86', 'name': 'Italy'},\n",
       " {'id': '178', 'name': 'Turkey'},\n",
       " {'id': '67', 'name': 'Germany'},\n",
       " {'id': '38', 'name': 'Colombia'},\n",
       " {'id': '7', 'name': 'Argentina'},\n",
       " {'id': '115', 'name': 'Mexico'},\n",
       " {'id': '139', 'name': 'Poland'},\n",
       " {'id': '82', 'name': 'Iran'},\n",
       " {'id': '161', 'name': 'South Africa'},\n",
       " {'id': '181', 'name': 'Ukraine'},\n",
       " {'id': '81', 'name': 'Indonesia'},\n",
       " {'id': '137', 'name': 'Peru'},\n",
       " {'id': '47', 'name': 'Czechia'},\n",
       " {'id': '125', 'name': 'Netherlands'},\n",
       " {'id': '33', 'name': 'Canada'},\n",
       " {'id': '36', 'name': 'Chile'},\n",
       " {'id': '142', 'name': 'Romania'},\n",
       " {'id': '140', 'name': 'Portugal'},\n",
       " {'id': '85', 'name': 'Israel'},\n",
       " {'id': '17', 'name': 'Belgium'},\n",
       " {'id': '83', 'name': 'Iraq'},\n",
       " {'id': '167', 'name': 'Sweden'},\n",
       " {'id': '133', 'name': 'Pakistan'},\n",
       " {'id': '138', 'name': 'Philippines'},\n",
       " {'id': '168', 'name': 'Switzerland'},\n",
       " {'id': '14', 'name': 'Bangladesh'},\n",
       " {'id': '121', 'name': 'Morocco'},\n",
       " {'id': '153', 'name': 'Serbia'},\n",
       " {'id': '10', 'name': 'Austria'},\n",
       " {'id': '78', 'name': 'Hungary'},\n",
       " {'id': '88', 'name': 'Japan'},\n",
       " {'id': '89', 'name': 'Jordan'},\n",
       " {'id': '182', 'name': 'United Arab Emirates'},\n",
       " {'id': '98', 'name': 'Lebanon'},\n",
       " {'id': '151', 'name': 'Saudi Arabia'},\n",
       " {'id': '134', 'name': 'Panama'},\n",
       " {'id': '157', 'name': 'Slovakia'},\n",
       " {'id': '108', 'name': 'Malaysia'},\n",
       " {'id': '16', 'name': 'Belarus'},\n",
       " {'id': '53', 'name': 'Ecuador'},\n",
       " {'id': '124', 'name': 'Nepal'},\n",
       " {'id': '66', 'name': 'Georgia'},\n",
       " {'id': '90', 'name': 'Kazakhstan'},\n",
       " {'id': '26', 'name': 'Bulgaria'},\n",
       " {'id': '21', 'name': 'Bolivia'},\n",
       " {'id': '44', 'name': 'Croatia'},\n",
       " {'id': '52', 'name': 'Dominican Republic'},\n",
       " {'id': '11', 'name': 'Azerbaijan'},\n",
       " {'id': '177', 'name': 'Tunisia'},\n",
       " {'id': '84', 'name': 'Ireland'},\n",
       " {'id': '48', 'name': 'Denmark'},\n",
       " {'id': '42', 'name': 'Costa Rica'},\n",
       " {'id': '103', 'name': 'Lithuania'},\n",
       " {'id': '69', 'name': 'Greece'},\n",
       " {'id': '94', 'name': 'Kuwait'},\n",
       " {'id': '158', 'name': 'Slovenia'},\n",
       " {'id': '117', 'name': 'Moldova'},\n",
       " {'id': '189', 'name': 'West Bank and Gaza'},\n",
       " {'id': '54', 'name': 'Egypt'},\n",
       " {'id': '71', 'name': 'Guatemala'},\n",
       " {'id': '8', 'name': 'Armenia'},\n",
       " {'id': '77', 'name': 'Honduras'},\n",
       " {'id': '141', 'name': 'Qatar'},\n",
       " {'id': '136', 'name': 'Paraguay'},\n",
       " {'id': '60', 'name': 'Ethiopia'},\n",
       " {'id': '129', 'name': 'Nigeria'},\n",
       " {'id': '132', 'name': 'Oman'},\n",
       " {'id': '28', 'name': 'Burma'},\n",
       " {'id': '187', 'name': 'Venezuela'},\n",
       " {'id': '101', 'name': 'Libya'},\n",
       " {'id': '22', 'name': 'Bosnia and Herzegovina'},\n",
       " {'id': '13', 'name': 'Bahrain'},\n",
       " {'id': '3', 'name': 'Algeria'},\n",
       " {'id': '2', 'name': 'Albania'},\n",
       " {'id': '91', 'name': 'Kenya'},\n",
       " {'id': '130', 'name': 'North Macedonia'},\n",
       " {'id': '37', 'name': 'China'},\n",
       " {'id': '92', 'name': 'Korea, South'},\n",
       " {'id': '97', 'name': 'Latvia'},\n",
       " {'id': '95', 'name': 'Kyrgyzstan'},\n",
       " {'id': '68', 'name': 'Ghana'},\n",
       " {'id': '164', 'name': 'Sri Lanka'},\n",
       " {'id': '185', 'name': 'Uzbekistan'},\n",
       " {'id': '191', 'name': 'Zambia'},\n",
       " {'id': '120', 'name': 'Montenegro'},\n",
       " {'id': '131', 'name': 'Norway'},\n",
       " {'id': '93', 'name': 'Kosovo'},\n",
       " {'id': '58', 'name': 'Estonia'},\n",
       " {'id': '55', 'name': 'El Salvador'},\n",
       " {'id': '156', 'name': 'Singapore'},\n",
       " {'id': '122', 'name': 'Mozambique'},\n",
       " {'id': '184', 'name': 'Uruguay'},\n",
       " {'id': '62', 'name': 'Finland'},\n",
       " {'id': '1', 'name': 'Afghanistan'},\n",
       " {'id': '104', 'name': 'Luxembourg'},\n",
       " {'id': '45', 'name': 'Cuba'},\n",
       " {'id': '180', 'name': 'Uganda'},\n",
       " {'id': '123', 'name': 'Namibia'},\n",
       " {'id': '192', 'name': 'Zimbabwe'},\n",
       " {'id': '32', 'name': 'Cameroon'},\n",
       " {'id': '46', 'name': 'Cyprus'},\n",
       " {'id': '152', 'name': 'Senegal'},\n",
       " {'id': '43', 'name': \"Cote d'Ivoire\"},\n",
       " {'id': '107', 'name': 'Malawi'},\n",
       " {'id': '23', 'name': 'Botswana'},\n",
       " {'id': '165', 'name': 'Sudan'},\n",
       " {'id': '9', 'name': 'Australia'},\n",
       " {'id': '173', 'name': 'Thailand'},\n",
       " {'id': '41', 'name': 'Congo (Kinshasa)'},\n",
       " {'id': '87', 'name': 'Jamaica'},\n",
       " {'id': '111', 'name': 'Malta'},\n",
       " {'id': '5', 'name': 'Angola'},\n",
       " {'id': '109', 'name': 'Maldives'},\n",
       " {'id': '106', 'name': 'Madagascar'},\n",
       " {'id': '144', 'name': 'Rwanda'},\n",
       " {'id': '113', 'name': 'Mauritania'},\n",
       " {'id': '59', 'name': 'Eswatini'},\n",
       " {'id': '72', 'name': 'Guinea'},\n",
       " {'id': '169', 'name': 'Syria'},\n",
       " {'id': '30', 'name': 'Cabo Verde'},\n",
       " {'id': '64', 'name': 'Gabon'},\n",
       " {'id': '171', 'name': 'Tajikistan'},\n",
       " {'id': '75', 'name': 'Haiti'},\n",
       " {'id': '18', 'name': 'Belize'},\n",
       " {'id': '27', 'name': 'Burkina Faso'},\n",
       " {'id': '4', 'name': 'Andorra'},\n",
       " {'id': '99', 'name': 'Lesotho'},\n",
       " {'id': '166', 'name': 'Suriname'},\n",
       " {'id': '40', 'name': 'Congo (Brazzaville)'},\n",
       " {'id': '74', 'name': 'Guyana'},\n",
       " {'id': '12', 'name': 'Bahamas'},\n",
       " {'id': '110', 'name': 'Mali'},\n",
       " {'id': '162', 'name': 'South Sudan'},\n",
       " {'id': '176', 'name': 'Trinidad and Tobago'},\n",
       " {'id': '160', 'name': 'Somalia'},\n",
       " {'id': '175', 'name': 'Togo'},\n",
       " {'id': '127', 'name': 'Nicaragua'},\n",
       " {'id': '56', 'name': 'Equatorial Guinea'},\n",
       " {'id': '50', 'name': 'Djibouti'},\n",
       " {'id': '79', 'name': 'Iceland'},\n",
       " {'id': '19', 'name': 'Benin'},\n",
       " {'id': '34', 'name': 'Central African Republic'},\n",
       " {'id': '128', 'name': 'Niger'},\n",
       " {'id': '65', 'name': 'Gambia'},\n",
       " {'id': '35', 'name': 'Chad'},\n",
       " {'id': '155', 'name': 'Sierra Leone'},\n",
       " {'id': '149', 'name': 'San Marino'},\n",
       " {'id': '146', 'name': 'Saint Lucia'},\n",
       " {'id': '39', 'name': 'Comoros'},\n",
       " {'id': '73', 'name': 'Guinea-Bissau'},\n",
       " {'id': '15', 'name': 'Barbados'},\n",
       " {'id': '119', 'name': 'Mongolia'},\n",
       " {'id': '57', 'name': 'Eritrea'},\n",
       " {'id': '154', 'name': 'Seychelles'},\n",
       " {'id': '102', 'name': 'Liechtenstein'},\n",
       " {'id': '188', 'name': 'Vietnam'},\n",
       " {'id': '126', 'name': 'New Zealand'},\n",
       " {'id': '190', 'name': 'Yemen'},\n",
       " {'id': '29', 'name': 'Burundi'},\n",
       " {'id': '100', 'name': 'Liberia'},\n",
       " {'id': '118', 'name': 'Monaco'},\n",
       " {'id': '150', 'name': 'Sao Tome and Principe'},\n",
       " {'id': '147', 'name': 'Saint Vincent and the Grenadines'},\n",
       " {'id': '135', 'name': 'Papua New Guinea'},\n",
       " {'id': '170', 'name': 'Taiwan*'},\n",
       " {'id': '31', 'name': 'Cambodia'},\n",
       " {'id': '20', 'name': 'Bhutan'},\n",
       " {'id': '6', 'name': 'Antigua and Barbuda'},\n",
       " {'id': '49', 'name': 'Diamond Princess'},\n",
       " {'id': '114', 'name': 'Mauritius'},\n",
       " {'id': '172', 'name': 'Tanzania'},\n",
       " {'id': '25', 'name': 'Brunei'},\n",
       " {'id': '70', 'name': 'Grenada'},\n",
       " {'id': '51', 'name': 'Dominica'},\n",
       " {'id': '174', 'name': 'Timor-Leste'},\n",
       " {'id': '61', 'name': 'Fiji'},\n",
       " {'id': '96', 'name': 'Laos'},\n",
       " {'id': '145', 'name': 'Saint Kitts and Nevis'},\n",
       " {'id': '76', 'name': 'Holy See'},\n",
       " {'id': '159', 'name': 'Solomon Islands'},\n",
       " {'id': '105', 'name': 'MS Zaandam'},\n",
       " {'id': '112', 'name': 'Marshall Islands'},\n",
       " {'id': '148', 'name': 'Samoa'},\n",
       " {'id': '116', 'name': 'Micronesia'},\n",
       " {'id': '186', 'name': 'Vanuatu'}]"
      ]
     },
     "execution_count": 3,
     "metadata": {},
     "output_type": "execute_result"
    }
   ],
   "source": [
    "countries = covid.list_countries()\n",
    "countries"
   ]
  },
  {
   "cell_type": "markdown",
   "metadata": {},
   "source": [
    "# Status By Country ID"
   ]
  },
  {
   "cell_type": "code",
   "execution_count": 4,
   "metadata": {},
   "outputs": [
    {
     "data": {
      "text/plain": [
       "{'id': '80',\n",
       " 'country': 'India',\n",
       " 'confirmed': 11139516,\n",
       " 'active': 170126,\n",
       " 'deaths': 157346,\n",
       " 'recovered': 10812044,\n",
       " 'latitude': 20.593684,\n",
       " 'longitude': 78.96288,\n",
       " 'last_update': 1614752684000}"
      ]
     },
     "execution_count": 4,
     "metadata": {},
     "output_type": "execute_result"
    }
   ],
   "source": [
    "covid = Covid()\n",
    "cases = covid.get_status_by_country_id(80) \n",
    "cases"
   ]
  },
  {
   "cell_type": "markdown",
   "metadata": {},
   "source": [
    "# Total Confirmed cases, Active cases, Recovered cases and Deaths"
   ]
  },
  {
   "cell_type": "code",
   "execution_count": 5,
   "metadata": {},
   "outputs": [
    {
     "name": "stdout",
     "output_type": "stream",
     "text": [
      "Confirmed : 114751575\n",
      "Active : 47300553\n",
      "Recovered : 64903591\n",
      "Deaths: 2549260\n"
     ]
    }
   ],
   "source": [
    "#To display total number of conferemed cases\n",
    "confirmed = covid.get_total_confirmed_cases() \n",
    "print('Confirmed :', end =\" \") \n",
    "print(confirmed)\n",
    "\n",
    "#To display total number of Active cases\n",
    "active = covid.get_total_active_cases()\n",
    "print(\"Active :\", end=\" \")\n",
    "print(active)\n",
    "\n",
    "#To display total number of Recovered cases\n",
    "recovered = covid.get_total_recovered()\n",
    "print(\"Recovered :\", end=\" \")\n",
    "print(recovered)\n",
    "\n",
    "#To display total number of Death cases\n",
    "deaths = covid.get_total_deaths() \n",
    "print('Deaths:', end =\" \") \n",
    "print(deaths)"
   ]
  },
  {
   "cell_type": "code",
   "execution_count": null,
   "metadata": {},
   "outputs": [],
   "source": []
  },
  {
   "cell_type": "code",
   "execution_count": null,
   "metadata": {},
   "outputs": [],
   "source": []
  }
 ],
 "metadata": {
  "kernelspec": {
   "display_name": "Python 3",
   "language": "python",
   "name": "python3"
  },
  "language_info": {
   "codemirror_mode": {
    "name": "ipython",
    "version": 3
   },
   "file_extension": ".py",
   "mimetype": "text/x-python",
   "name": "python",
   "nbconvert_exporter": "python",
   "pygments_lexer": "ipython3",
   "version": "3.8.5"
  }
 },
 "nbformat": 4,
 "nbformat_minor": 4
}
